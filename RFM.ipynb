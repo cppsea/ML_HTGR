{
 "cells": [
  {
   "cell_type": "code",
   "execution_count": 2,
   "id": "06a6e51f-afd7-40c6-8212-c401dda351fc",
   "metadata": {},
   "outputs": [
    {
     "name": "stdout",
     "output_type": "stream",
     "text": [
      "Collecting numpy\n",
      "  Obtaining dependency information for numpy from https://files.pythonhosted.org/packages/28/75/3b679b41713bb60e2e8f6e2f87be72c971c9e718b1c17b8f8749240ddca8/numpy-1.26.2-cp312-cp312-win_amd64.whl.metadata\n",
      "  Downloading numpy-1.26.2-cp312-cp312-win_amd64.whl.metadata (61 kB)\n",
      "     ---------------------------------------- 0.0/61.2 kB ? eta -:--:--\n",
      "     ------------ ------------------------- 20.5/61.2 kB 682.7 kB/s eta 0:00:01\n",
      "     ------------------------------- ------ 51.2/61.2 kB 660.6 kB/s eta 0:00:01\n",
      "     -------------------------------------- 61.2/61.2 kB 653.5 kB/s eta 0:00:00\n",
      "Collecting pandas\n",
      "  Obtaining dependency information for pandas from https://files.pythonhosted.org/packages/df/92/a3fa053c74198f9f0224b2c04dc74f41d2e14e30329c082f7a657f9ca4c5/pandas-2.1.3-cp312-cp312-win_amd64.whl.metadata\n",
      "  Downloading pandas-2.1.3-cp312-cp312-win_amd64.whl.metadata (18 kB)\n",
      "Collecting scikit-learn\n",
      "  Obtaining dependency information for scikit-learn from https://files.pythonhosted.org/packages/fe/6b/db949ed5ac367987b1f250f070f340b7715d22f0c9c965bdf07de6ca75a3/scikit_learn-1.3.2-cp312-cp312-win_amd64.whl.metadata\n",
      "  Downloading scikit_learn-1.3.2-cp312-cp312-win_amd64.whl.metadata (11 kB)\n",
      "Requirement already satisfied: python-dateutil>=2.8.2 in c:\\users\\arnav\\appdata\\local\\programs\\python\\python312\\lib\\site-packages (from pandas) (2.8.2)\n",
      "Collecting pytz>=2020.1 (from pandas)\n",
      "  Obtaining dependency information for pytz>=2020.1 from https://files.pythonhosted.org/packages/32/4d/aaf7eff5deb402fd9a24a1449a8119f00d74ae9c2efa79f8ef9994261fc2/pytz-2023.3.post1-py2.py3-none-any.whl.metadata\n",
      "  Downloading pytz-2023.3.post1-py2.py3-none-any.whl.metadata (22 kB)\n",
      "Collecting tzdata>=2022.1 (from pandas)\n",
      "  Downloading tzdata-2023.3-py2.py3-none-any.whl (341 kB)\n",
      "     ---------------------------------------- 0.0/341.8 kB ? eta -:--:--\n",
      "     -------------------------- ----------- 235.5/341.8 kB 4.8 MB/s eta 0:00:01\n",
      "     -------------------------------------- 341.8/341.8 kB 5.3 MB/s eta 0:00:00\n",
      "Collecting scipy>=1.5.0 (from scikit-learn)\n",
      "  Obtaining dependency information for scipy>=1.5.0 from https://files.pythonhosted.org/packages/c6/a1/357e4cd43af2748e1e0407ae0e9a5ea8aaaa6b702833c81be11670dcbad8/scipy-1.11.4-cp312-cp312-win_amd64.whl.metadata\n",
      "  Downloading scipy-1.11.4-cp312-cp312-win_amd64.whl.metadata (60 kB)\n",
      "     ---------------------------------------- 0.0/60.4 kB ? eta -:--:--\n",
      "     ---------------------------------------- 60.4/60.4 kB 3.1 MB/s eta 0:00:00\n",
      "Collecting joblib>=1.1.1 (from scikit-learn)\n",
      "  Obtaining dependency information for joblib>=1.1.1 from https://files.pythonhosted.org/packages/10/40/d551139c85db202f1f384ba8bcf96aca2f329440a844f924c8a0040b6d02/joblib-1.3.2-py3-none-any.whl.metadata\n",
      "  Downloading joblib-1.3.2-py3-none-any.whl.metadata (5.4 kB)\n",
      "Collecting threadpoolctl>=2.0.0 (from scikit-learn)\n",
      "  Obtaining dependency information for threadpoolctl>=2.0.0 from https://files.pythonhosted.org/packages/81/12/fd4dea011af9d69e1cad05c75f3f7202cdcbeac9b712eea58ca779a72865/threadpoolctl-3.2.0-py3-none-any.whl.metadata\n",
      "  Downloading threadpoolctl-3.2.0-py3-none-any.whl.metadata (10.0 kB)\n",
      "Requirement already satisfied: six>=1.5 in c:\\users\\arnav\\appdata\\local\\programs\\python\\python312\\lib\\site-packages (from python-dateutil>=2.8.2->pandas) (1.16.0)\n",
      "Downloading numpy-1.26.2-cp312-cp312-win_amd64.whl (15.5 MB)\n",
      "   ---------------------------------------- 0.0/15.5 MB ? eta -:--:--\n",
      "   - -------------------------------------- 0.7/15.5 MB 15.3 MB/s eta 0:00:01\n",
      "   ----- ---------------------------------- 2.0/15.5 MB 20.8 MB/s eta 0:00:01\n",
      "   -------- ------------------------------- 3.1/15.5 MB 24.7 MB/s eta 0:00:01\n",
      "   ----------- ---------------------------- 4.5/15.5 MB 26.0 MB/s eta 0:00:01\n",
      "   --------------- ------------------------ 6.0/15.5 MB 25.6 MB/s eta 0:00:01\n",
      "   ------------------- -------------------- 7.5/15.5 MB 26.6 MB/s eta 0:00:01\n",
      "   ---------------------- ----------------- 8.6/15.5 MB 26.3 MB/s eta 0:00:01\n",
      "   ------------------------- -------------- 9.9/15.5 MB 27.6 MB/s eta 0:00:01\n",
      "   ------------------------- -------------- 9.9/15.5 MB 27.6 MB/s eta 0:00:01\n",
      "   ------------------------------- -------- 12.3/15.5 MB 28.5 MB/s eta 0:00:01\n",
      "   ----------------------------------- ---- 13.7/15.5 MB 27.3 MB/s eta 0:00:01\n",
      "   -------------------------------------- - 15.0/15.5 MB 27.3 MB/s eta 0:00:01\n",
      "   ---------------------------------------  15.5/15.5 MB 26.2 MB/s eta 0:00:01\n",
      "   ---------------------------------------- 15.5/15.5 MB 23.3 MB/s eta 0:00:00\n",
      "Downloading pandas-2.1.3-cp312-cp312-win_amd64.whl (10.5 MB)\n",
      "   ---------------------------------------- 0.0/10.5 MB ? eta -:--:--\n",
      "   --- ------------------------------------ 1.0/10.5 MB 33.4 MB/s eta 0:00:01\n",
      "   --------- ------------------------------ 2.4/10.5 MB 30.3 MB/s eta 0:00:01\n",
      "   ------------ --------------------------- 3.2/10.5 MB 29.6 MB/s eta 0:00:01\n",
      "   ---------------- ----------------------- 4.4/10.5 MB 23.3 MB/s eta 0:00:01\n",
      "   ----------------------- ---------------- 6.1/10.5 MB 26.2 MB/s eta 0:00:01\n",
      "   ---------------------------- ----------- 7.5/10.5 MB 28.4 MB/s eta 0:00:01\n",
      "   ---------------------------------- ----- 8.9/10.5 MB 28.6 MB/s eta 0:00:01\n",
      "   ---------------------------------------  10.4/10.5 MB 28.4 MB/s eta 0:00:01\n",
      "   ---------------------------------------- 10.5/10.5 MB 26.1 MB/s eta 0:00:00\n",
      "Downloading scikit_learn-1.3.2-cp312-cp312-win_amd64.whl (9.1 MB)\n",
      "   ---------------------------------------- 0.0/9.1 MB ? eta -:--:--\n",
      "   --- ------------------------------------ 0.7/9.1 MB 22.1 MB/s eta 0:00:01\n",
      "   --------- ------------------------------ 2.1/9.1 MB 26.7 MB/s eta 0:00:01\n",
      "   --------------- ------------------------ 3.6/9.1 MB 28.8 MB/s eta 0:00:01\n",
      "   -------------------- ------------------- 4.7/9.1 MB 27.4 MB/s eta 0:00:01\n",
      "   -------------------------- ------------- 6.1/9.1 MB 27.6 MB/s eta 0:00:01\n",
      "   -------------------------------- ------- 7.5/9.1 MB 28.1 MB/s eta 0:00:01\n",
      "   ---------------------------------------  9.0/9.1 MB 28.6 MB/s eta 0:00:01\n",
      "   ---------------------------------------- 9.1/9.1 MB 26.5 MB/s eta 0:00:00\n",
      "Downloading joblib-1.3.2-py3-none-any.whl (302 kB)\n",
      "   ---------------------------------------- 0.0/302.2 kB ? eta -:--:--\n",
      "   ---------------------------------------- 302.2/302.2 kB ? eta 0:00:00\n",
      "Downloading pytz-2023.3.post1-py2.py3-none-any.whl (502 kB)\n",
      "   ---------------------------------------- 0.0/502.5 kB ? eta -:--:--\n",
      "   --------------------------------------- 502.5/502.5 kB 15.9 MB/s eta 0:00:00\n",
      "Downloading scipy-1.11.4-cp312-cp312-win_amd64.whl (43.7 MB)\n",
      "   ---------------------------------------- 0.0/43.7 MB ? eta -:--:--\n",
      "   - -------------------------------------- 1.4/43.7 MB 29.2 MB/s eta 0:00:02\n",
      "   -- ------------------------------------- 2.8/43.7 MB 25.7 MB/s eta 0:00:02\n",
      "   --- ------------------------------------ 4.0/43.7 MB 28.2 MB/s eta 0:00:02\n",
      "   ---- ----------------------------------- 5.2/43.7 MB 27.8 MB/s eta 0:00:02\n",
      "   ------ --------------------------------- 6.8/43.7 MB 27.1 MB/s eta 0:00:02\n",
      "   ------- -------------------------------- 7.8/43.7 MB 27.8 MB/s eta 0:00:02\n",
      "   -------- ------------------------------- 9.2/43.7 MB 28.0 MB/s eta 0:00:02\n",
      "   --------- ------------------------------ 10.7/43.7 MB 28.5 MB/s eta 0:00:02\n",
      "   ----------- ---------------------------- 12.1/43.7 MB 28.5 MB/s eta 0:00:02\n",
      "   ------------ --------------------------- 13.5/43.7 MB 27.3 MB/s eta 0:00:02\n",
      "   ------------- -------------------------- 14.8/43.7 MB 29.8 MB/s eta 0:00:01\n",
      "   -------------- ------------------------- 16.1/43.7 MB 29.7 MB/s eta 0:00:01\n",
      "   ---------------- ----------------------- 17.5/43.7 MB 29.8 MB/s eta 0:00:01\n",
      "   ----------------- ---------------------- 18.9/43.7 MB 28.5 MB/s eta 0:00:01\n",
      "   ------------------ --------------------- 20.3/43.7 MB 28.4 MB/s eta 0:00:01\n",
      "   ------------------- -------------------- 21.7/43.7 MB 28.4 MB/s eta 0:00:01\n",
      "   --------------------- ------------------ 23.2/43.7 MB 28.4 MB/s eta 0:00:01\n",
      "   ---------------------- ----------------- 24.6/43.7 MB 29.8 MB/s eta 0:00:01\n",
      "   ----------------------- ---------------- 26.1/43.7 MB 28.5 MB/s eta 0:00:01\n",
      "   ------------------------ --------------- 27.3/43.7 MB 27.3 MB/s eta 0:00:01\n",
      "   -------------------------- ------------- 28.8/43.7 MB 28.4 MB/s eta 0:00:01\n",
      "   --------------------------- ------------ 30.4/43.7 MB 28.4 MB/s eta 0:00:01\n",
      "   ---------------------------- ----------- 30.8/43.7 MB 29.7 MB/s eta 0:00:01\n",
      "   ---------------------------- ----------- 31.0/43.7 MB 25.1 MB/s eta 0:00:01\n",
      "   ---------------------------- ----------- 31.5/43.7 MB 25.2 MB/s eta 0:00:01\n",
      "   ---------------------------- ----------- 31.5/43.7 MB 25.2 MB/s eta 0:00:01\n",
      "   ---------------------------- ----------- 31.5/43.7 MB 25.2 MB/s eta 0:00:01\n",
      "   ---------------------------- ----------- 31.5/43.7 MB 25.2 MB/s eta 0:00:01\n",
      "   ---------------------------- ----------- 31.6/43.7 MB 16.4 MB/s eta 0:00:01\n",
      "   ---------------------------- ----------- 31.6/43.7 MB 16.4 MB/s eta 0:00:01\n",
      "   ---------------------------- ----------- 31.6/43.7 MB 16.4 MB/s eta 0:00:01\n",
      "   ---------------------------- ----------- 31.6/43.7 MB 16.4 MB/s eta 0:00:01\n",
      "   ---------------------------- ----------- 31.6/43.7 MB 16.4 MB/s eta 0:00:01\n",
      "   ------------------------------ --------- 33.0/43.7 MB 13.1 MB/s eta 0:00:01\n",
      "   ------------------------------ --------- 33.0/43.7 MB 13.1 MB/s eta 0:00:01\n",
      "   ------------------------------ --------- 33.0/43.7 MB 13.1 MB/s eta 0:00:01\n",
      "   ------------------------------ --------- 33.0/43.7 MB 13.1 MB/s eta 0:00:01\n",
      "   ------------------------------- -------- 34.2/43.7 MB 10.9 MB/s eta 0:00:01\n",
      "   ------------------------------- -------- 34.5/43.7 MB 10.9 MB/s eta 0:00:01\n",
      "   ------------------------------- -------- 34.5/43.7 MB 10.9 MB/s eta 0:00:01\n",
      "   ------------------------------- -------- 34.5/43.7 MB 10.9 MB/s eta 0:00:01\n",
      "   -------------------------------- ------- 35.6/43.7 MB 9.5 MB/s eta 0:00:01\n",
      "   -------------------------------- ------- 35.9/43.7 MB 9.4 MB/s eta 0:00:01\n",
      "   -------------------------------- ------- 35.9/43.7 MB 9.4 MB/s eta 0:00:01\n",
      "   -------------------------------- ------- 35.9/43.7 MB 9.4 MB/s eta 0:00:01\n",
      "   --------------------------------- ------ 36.8/43.7 MB 8.5 MB/s eta 0:00:01\n",
      "   ---------------------------------- ----- 37.2/43.7 MB 8.2 MB/s eta 0:00:01\n",
      "   ---------------------------------- ----- 37.4/43.7 MB 8.2 MB/s eta 0:00:01\n",
      "   ---------------------------------- ----- 37.4/43.7 MB 8.2 MB/s eta 0:00:01\n",
      "   ---------------------------------- ----- 38.3/43.7 MB 7.5 MB/s eta 0:00:01\n",
      "   ----------------------------------- ---- 38.6/43.7 MB 7.4 MB/s eta 0:00:01\n",
      "   ----------------------------------- ---- 38.8/43.7 MB 7.3 MB/s eta 0:00:01\n",
      "   ----------------------------------- ---- 38.8/43.7 MB 7.3 MB/s eta 0:00:01\n",
      "   ----------------------------------- ---- 38.8/43.7 MB 7.3 MB/s eta 0:00:01\n",
      "   ------------------------------------ --- 40.0/43.7 MB 6.7 MB/s eta 0:00:01\n",
      "   ------------------------------------ --- 40.3/43.7 MB 6.6 MB/s eta 0:00:01\n",
      "   ------------------------------------ --- 40.3/43.7 MB 6.6 MB/s eta 0:00:01\n",
      "   ------------------------------------- -- 41.5/43.7 MB 6.5 MB/s eta 0:00:01\n",
      "   -------------------------------------- - 42.1/43.7 MB 8.4 MB/s eta 0:00:01\n",
      "   ---------------------------------------  43.5/43.7 MB 9.8 MB/s eta 0:00:01\n",
      "   ---------------------------------------  43.7/43.7 MB 9.8 MB/s eta 0:00:01\n",
      "   ---------------------------------------  43.7/43.7 MB 9.8 MB/s eta 0:00:01\n",
      "   ---------------------------------------  43.7/43.7 MB 9.8 MB/s eta 0:00:01\n",
      "   ---------------------------------------- 43.7/43.7 MB 8.4 MB/s eta 0:00:00\n",
      "Downloading threadpoolctl-3.2.0-py3-none-any.whl (15 kB)\n",
      "Installing collected packages: pytz, tzdata, threadpoolctl, numpy, joblib, scipy, pandas, scikit-learn\n",
      "Successfully installed joblib-1.3.2 numpy-1.26.2 pandas-2.1.3 pytz-2023.3.post1 scikit-learn-1.3.2 scipy-1.11.4 threadpoolctl-3.2.0 tzdata-2023.3\n"
     ]
    },
    {
     "name": "stderr",
     "output_type": "stream",
     "text": [
      "\n",
      "[notice] A new release of pip is available: 23.2.1 -> 23.3.1\n",
      "[notice] To update, run: python.exe -m pip install --upgrade pip\n"
     ]
    }
   ],
   "source": [
    "!pip install numpy pandas scikit-learn"
   ]
  },
  {
   "cell_type": "code",
   "execution_count": 5,
   "id": "d6396aac-42be-4911-8916-6cbe8d05bdf6",
   "metadata": {},
   "outputs": [],
   "source": [
    "import pandas as pd\n",
    "import numpy as np\n",
    "from sklearn.ensemble import RandomForestClassifier\n",
    "from sklearn.model_selection import train_test_split\n",
    "from sklearn.metrics import classification_report, confusion_matrix, accuracy_score\n",
    "from sklearn.model_selection import GridSearchCV"
   ]
  },
  {
   "cell_type": "code",
   "execution_count": 8,
   "id": "d6f28985-8eaf-48bd-a199-6c6b5cddf323",
   "metadata": {},
   "outputs": [],
   "source": [
    "#read data\n",
    "train_df = pd.read_csv('train.csv')\n",
    "test_df = pd.read_csv('test.csv')"
   ]
  },
  {
   "cell_type": "code",
   "execution_count": 9,
   "id": "5c0f387a-647f-441b-9e13-3437cd35436f",
   "metadata": {},
   "outputs": [],
   "source": [
    "# Separate features and target variable in training dataset\n",
    "X_train = train_df.drop('Target', axis=1)\n",
    "y_train = train_df['Target']\n",
    "\n",
    "# Separate features and target variable in testing dataset\n",
    "X_test = test_df.drop('Target', axis=1)\n",
    "y_test = test_df['Target']"
   ]
  },
  {
   "cell_type": "code",
   "execution_count": 10,
   "id": "aa0746cb-8672-4de1-8ab9-3407eccbc59e",
   "metadata": {},
   "outputs": [
    {
     "data": {
      "text/html": [
       "<style>#sk-container-id-1 {color: black;}#sk-container-id-1 pre{padding: 0;}#sk-container-id-1 div.sk-toggleable {background-color: white;}#sk-container-id-1 label.sk-toggleable__label {cursor: pointer;display: block;width: 100%;margin-bottom: 0;padding: 0.3em;box-sizing: border-box;text-align: center;}#sk-container-id-1 label.sk-toggleable__label-arrow:before {content: \"▸\";float: left;margin-right: 0.25em;color: #696969;}#sk-container-id-1 label.sk-toggleable__label-arrow:hover:before {color: black;}#sk-container-id-1 div.sk-estimator:hover label.sk-toggleable__label-arrow:before {color: black;}#sk-container-id-1 div.sk-toggleable__content {max-height: 0;max-width: 0;overflow: hidden;text-align: left;background-color: #f0f8ff;}#sk-container-id-1 div.sk-toggleable__content pre {margin: 0.2em;color: black;border-radius: 0.25em;background-color: #f0f8ff;}#sk-container-id-1 input.sk-toggleable__control:checked~div.sk-toggleable__content {max-height: 200px;max-width: 100%;overflow: auto;}#sk-container-id-1 input.sk-toggleable__control:checked~label.sk-toggleable__label-arrow:before {content: \"▾\";}#sk-container-id-1 div.sk-estimator input.sk-toggleable__control:checked~label.sk-toggleable__label {background-color: #d4ebff;}#sk-container-id-1 div.sk-label input.sk-toggleable__control:checked~label.sk-toggleable__label {background-color: #d4ebff;}#sk-container-id-1 input.sk-hidden--visually {border: 0;clip: rect(1px 1px 1px 1px);clip: rect(1px, 1px, 1px, 1px);height: 1px;margin: -1px;overflow: hidden;padding: 0;position: absolute;width: 1px;}#sk-container-id-1 div.sk-estimator {font-family: monospace;background-color: #f0f8ff;border: 1px dotted black;border-radius: 0.25em;box-sizing: border-box;margin-bottom: 0.5em;}#sk-container-id-1 div.sk-estimator:hover {background-color: #d4ebff;}#sk-container-id-1 div.sk-parallel-item::after {content: \"\";width: 100%;border-bottom: 1px solid gray;flex-grow: 1;}#sk-container-id-1 div.sk-label:hover label.sk-toggleable__label {background-color: #d4ebff;}#sk-container-id-1 div.sk-serial::before {content: \"\";position: absolute;border-left: 1px solid gray;box-sizing: border-box;top: 0;bottom: 0;left: 50%;z-index: 0;}#sk-container-id-1 div.sk-serial {display: flex;flex-direction: column;align-items: center;background-color: white;padding-right: 0.2em;padding-left: 0.2em;position: relative;}#sk-container-id-1 div.sk-item {position: relative;z-index: 1;}#sk-container-id-1 div.sk-parallel {display: flex;align-items: stretch;justify-content: center;background-color: white;position: relative;}#sk-container-id-1 div.sk-item::before, #sk-container-id-1 div.sk-parallel-item::before {content: \"\";position: absolute;border-left: 1px solid gray;box-sizing: border-box;top: 0;bottom: 0;left: 50%;z-index: -1;}#sk-container-id-1 div.sk-parallel-item {display: flex;flex-direction: column;z-index: 1;position: relative;background-color: white;}#sk-container-id-1 div.sk-parallel-item:first-child::after {align-self: flex-end;width: 50%;}#sk-container-id-1 div.sk-parallel-item:last-child::after {align-self: flex-start;width: 50%;}#sk-container-id-1 div.sk-parallel-item:only-child::after {width: 0;}#sk-container-id-1 div.sk-dashed-wrapped {border: 1px dashed gray;margin: 0 0.4em 0.5em 0.4em;box-sizing: border-box;padding-bottom: 0.4em;background-color: white;}#sk-container-id-1 div.sk-label label {font-family: monospace;font-weight: bold;display: inline-block;line-height: 1.2em;}#sk-container-id-1 div.sk-label-container {text-align: center;}#sk-container-id-1 div.sk-container {/* jupyter's `normalize.less` sets `[hidden] { display: none; }` but bootstrap.min.css set `[hidden] { display: none !important; }` so we also need the `!important` here to be able to override the default hidden behavior on the sphinx rendered scikit-learn.org. See: https://github.com/scikit-learn/scikit-learn/issues/21755 */display: inline-block !important;position: relative;}#sk-container-id-1 div.sk-text-repr-fallback {display: none;}</style><div id=\"sk-container-id-1\" class=\"sk-top-container\"><div class=\"sk-text-repr-fallback\"><pre>RandomForestClassifier(random_state=42)</pre><b>In a Jupyter environment, please rerun this cell to show the HTML representation or trust the notebook. <br />On GitHub, the HTML representation is unable to render, please try loading this page with nbviewer.org.</b></div><div class=\"sk-container\" hidden><div class=\"sk-item\"><div class=\"sk-estimator sk-toggleable\"><input class=\"sk-toggleable__control sk-hidden--visually\" id=\"sk-estimator-id-1\" type=\"checkbox\" checked><label for=\"sk-estimator-id-1\" class=\"sk-toggleable__label sk-toggleable__label-arrow\">RandomForestClassifier</label><div class=\"sk-toggleable__content\"><pre>RandomForestClassifier(random_state=42)</pre></div></div></div></div></div>"
      ],
      "text/plain": [
       "RandomForestClassifier(random_state=42)"
      ]
     },
     "execution_count": 10,
     "metadata": {},
     "output_type": "execute_result"
    }
   ],
   "source": [
    "#training the model (100 trees in forest, 42 is the random seed)\n",
    "model = RandomForestClassifier(n_estimators=100, random_state=42)\n",
    "model.fit(X_train, y_train)"
   ]
  },
  {
   "cell_type": "code",
   "execution_count": 11,
   "id": "ddb4e32e-5830-4d34-9293-e8de410adc31",
   "metadata": {},
   "outputs": [
    {
     "name": "stdout",
     "output_type": "stream",
     "text": [
      "Accuracy: 0.9863636363636363\n",
      "[[49  0  0  1]\n",
      " [ 1 56  0  0]\n",
      " [ 1  0 68  0]\n",
      " [ 0  0  0 44]]\n",
      "              precision    recall  f1-score   support\n",
      "\n",
      "           1       0.96      0.98      0.97        50\n",
      "           2       1.00      0.98      0.99        57\n",
      "           3       1.00      0.99      0.99        69\n",
      "           4       0.98      1.00      0.99        44\n",
      "\n",
      "    accuracy                           0.99       220\n",
      "   macro avg       0.98      0.99      0.99       220\n",
      "weighted avg       0.99      0.99      0.99       220\n",
      "\n"
     ]
    }
   ],
   "source": [
    "#make and display predictions\n",
    "predictions = model.predict(X_test)\n",
    "\n",
    "print(\"Accuracy:\", accuracy_score(y_test, predictions))\n",
    "print(confusion_matrix(y_test, predictions))\n",
    "print(classification_report(y_test, predictions))"
   ]
  },
  {
   "cell_type": "code",
   "execution_count": 12,
   "id": "bc75b695-f681-4405-9b62-9f9d0a333ce5",
   "metadata": {},
   "outputs": [],
   "source": [
    "#set up grid for tuning\n",
    "param_grid = {\n",
    "    'n_estimators': [100, 200, 300],        # Number of trees in the forest\n",
    "    'max_depth': [10, 20, 30, None],        # Maximum depth of each tree\n",
    "    'min_samples_split': [2, 5, 10],        # Minimum number of samples required to split a node\n",
    "    'min_samples_leaf': [1, 2, 4],          # Minimum number of samples required at each leaf node\n",
    "}"
   ]
  },
  {
   "cell_type": "code",
   "execution_count": 13,
   "id": "108aa461-f6bb-46e5-ba78-9a731dca2437",
   "metadata": {},
   "outputs": [],
   "source": [
    "#GridSearchCV trains model for each combination of parameters\n",
    "rf_model = RandomForestClassifier(random_state=42)\n",
    "grid_search = GridSearchCV(estimator=rf_model, param_grid=param_grid, \n",
    "                           cv=3, n_jobs=-1, verbose=2, scoring='accuracy')"
   ]
  },
  {
   "cell_type": "code",
   "execution_count": 14,
   "id": "6664d669-bc4d-41c5-9e15-40f5d79b042d",
   "metadata": {},
   "outputs": [
    {
     "name": "stdout",
     "output_type": "stream",
     "text": [
      "Fitting 3 folds for each of 108 candidates, totalling 324 fits\n"
     ]
    },
    {
     "data": {
      "text/html": [
       "<style>#sk-container-id-2 {color: black;}#sk-container-id-2 pre{padding: 0;}#sk-container-id-2 div.sk-toggleable {background-color: white;}#sk-container-id-2 label.sk-toggleable__label {cursor: pointer;display: block;width: 100%;margin-bottom: 0;padding: 0.3em;box-sizing: border-box;text-align: center;}#sk-container-id-2 label.sk-toggleable__label-arrow:before {content: \"▸\";float: left;margin-right: 0.25em;color: #696969;}#sk-container-id-2 label.sk-toggleable__label-arrow:hover:before {color: black;}#sk-container-id-2 div.sk-estimator:hover label.sk-toggleable__label-arrow:before {color: black;}#sk-container-id-2 div.sk-toggleable__content {max-height: 0;max-width: 0;overflow: hidden;text-align: left;background-color: #f0f8ff;}#sk-container-id-2 div.sk-toggleable__content pre {margin: 0.2em;color: black;border-radius: 0.25em;background-color: #f0f8ff;}#sk-container-id-2 input.sk-toggleable__control:checked~div.sk-toggleable__content {max-height: 200px;max-width: 100%;overflow: auto;}#sk-container-id-2 input.sk-toggleable__control:checked~label.sk-toggleable__label-arrow:before {content: \"▾\";}#sk-container-id-2 div.sk-estimator input.sk-toggleable__control:checked~label.sk-toggleable__label {background-color: #d4ebff;}#sk-container-id-2 div.sk-label input.sk-toggleable__control:checked~label.sk-toggleable__label {background-color: #d4ebff;}#sk-container-id-2 input.sk-hidden--visually {border: 0;clip: rect(1px 1px 1px 1px);clip: rect(1px, 1px, 1px, 1px);height: 1px;margin: -1px;overflow: hidden;padding: 0;position: absolute;width: 1px;}#sk-container-id-2 div.sk-estimator {font-family: monospace;background-color: #f0f8ff;border: 1px dotted black;border-radius: 0.25em;box-sizing: border-box;margin-bottom: 0.5em;}#sk-container-id-2 div.sk-estimator:hover {background-color: #d4ebff;}#sk-container-id-2 div.sk-parallel-item::after {content: \"\";width: 100%;border-bottom: 1px solid gray;flex-grow: 1;}#sk-container-id-2 div.sk-label:hover label.sk-toggleable__label {background-color: #d4ebff;}#sk-container-id-2 div.sk-serial::before {content: \"\";position: absolute;border-left: 1px solid gray;box-sizing: border-box;top: 0;bottom: 0;left: 50%;z-index: 0;}#sk-container-id-2 div.sk-serial {display: flex;flex-direction: column;align-items: center;background-color: white;padding-right: 0.2em;padding-left: 0.2em;position: relative;}#sk-container-id-2 div.sk-item {position: relative;z-index: 1;}#sk-container-id-2 div.sk-parallel {display: flex;align-items: stretch;justify-content: center;background-color: white;position: relative;}#sk-container-id-2 div.sk-item::before, #sk-container-id-2 div.sk-parallel-item::before {content: \"\";position: absolute;border-left: 1px solid gray;box-sizing: border-box;top: 0;bottom: 0;left: 50%;z-index: -1;}#sk-container-id-2 div.sk-parallel-item {display: flex;flex-direction: column;z-index: 1;position: relative;background-color: white;}#sk-container-id-2 div.sk-parallel-item:first-child::after {align-self: flex-end;width: 50%;}#sk-container-id-2 div.sk-parallel-item:last-child::after {align-self: flex-start;width: 50%;}#sk-container-id-2 div.sk-parallel-item:only-child::after {width: 0;}#sk-container-id-2 div.sk-dashed-wrapped {border: 1px dashed gray;margin: 0 0.4em 0.5em 0.4em;box-sizing: border-box;padding-bottom: 0.4em;background-color: white;}#sk-container-id-2 div.sk-label label {font-family: monospace;font-weight: bold;display: inline-block;line-height: 1.2em;}#sk-container-id-2 div.sk-label-container {text-align: center;}#sk-container-id-2 div.sk-container {/* jupyter's `normalize.less` sets `[hidden] { display: none; }` but bootstrap.min.css set `[hidden] { display: none !important; }` so we also need the `!important` here to be able to override the default hidden behavior on the sphinx rendered scikit-learn.org. See: https://github.com/scikit-learn/scikit-learn/issues/21755 */display: inline-block !important;position: relative;}#sk-container-id-2 div.sk-text-repr-fallback {display: none;}</style><div id=\"sk-container-id-2\" class=\"sk-top-container\"><div class=\"sk-text-repr-fallback\"><pre>GridSearchCV(cv=3, estimator=RandomForestClassifier(random_state=42), n_jobs=-1,\n",
       "             param_grid={&#x27;max_depth&#x27;: [10, 20, 30, None],\n",
       "                         &#x27;min_samples_leaf&#x27;: [1, 2, 4],\n",
       "                         &#x27;min_samples_split&#x27;: [2, 5, 10],\n",
       "                         &#x27;n_estimators&#x27;: [100, 200, 300]},\n",
       "             scoring=&#x27;accuracy&#x27;, verbose=2)</pre><b>In a Jupyter environment, please rerun this cell to show the HTML representation or trust the notebook. <br />On GitHub, the HTML representation is unable to render, please try loading this page with nbviewer.org.</b></div><div class=\"sk-container\" hidden><div class=\"sk-item sk-dashed-wrapped\"><div class=\"sk-label-container\"><div class=\"sk-label sk-toggleable\"><input class=\"sk-toggleable__control sk-hidden--visually\" id=\"sk-estimator-id-2\" type=\"checkbox\" ><label for=\"sk-estimator-id-2\" class=\"sk-toggleable__label sk-toggleable__label-arrow\">GridSearchCV</label><div class=\"sk-toggleable__content\"><pre>GridSearchCV(cv=3, estimator=RandomForestClassifier(random_state=42), n_jobs=-1,\n",
       "             param_grid={&#x27;max_depth&#x27;: [10, 20, 30, None],\n",
       "                         &#x27;min_samples_leaf&#x27;: [1, 2, 4],\n",
       "                         &#x27;min_samples_split&#x27;: [2, 5, 10],\n",
       "                         &#x27;n_estimators&#x27;: [100, 200, 300]},\n",
       "             scoring=&#x27;accuracy&#x27;, verbose=2)</pre></div></div></div><div class=\"sk-parallel\"><div class=\"sk-parallel-item\"><div class=\"sk-item\"><div class=\"sk-label-container\"><div class=\"sk-label sk-toggleable\"><input class=\"sk-toggleable__control sk-hidden--visually\" id=\"sk-estimator-id-3\" type=\"checkbox\" ><label for=\"sk-estimator-id-3\" class=\"sk-toggleable__label sk-toggleable__label-arrow\">estimator: RandomForestClassifier</label><div class=\"sk-toggleable__content\"><pre>RandomForestClassifier(random_state=42)</pre></div></div></div><div class=\"sk-serial\"><div class=\"sk-item\"><div class=\"sk-estimator sk-toggleable\"><input class=\"sk-toggleable__control sk-hidden--visually\" id=\"sk-estimator-id-4\" type=\"checkbox\" ><label for=\"sk-estimator-id-4\" class=\"sk-toggleable__label sk-toggleable__label-arrow\">RandomForestClassifier</label><div class=\"sk-toggleable__content\"><pre>RandomForestClassifier(random_state=42)</pre></div></div></div></div></div></div></div></div></div></div>"
      ],
      "text/plain": [
       "GridSearchCV(cv=3, estimator=RandomForestClassifier(random_state=42), n_jobs=-1,\n",
       "             param_grid={'max_depth': [10, 20, 30, None],\n",
       "                         'min_samples_leaf': [1, 2, 4],\n",
       "                         'min_samples_split': [2, 5, 10],\n",
       "                         'n_estimators': [100, 200, 300]},\n",
       "             scoring='accuracy', verbose=2)"
      ]
     },
     "execution_count": 14,
     "metadata": {},
     "output_type": "execute_result"
    }
   ],
   "source": [
    "#run grid with training data\n",
    "grid_search.fit(X_train, y_train)"
   ]
  },
  {
   "cell_type": "code",
   "execution_count": 15,
   "id": "18eb7d65-d1f0-4c85-babd-77a643f8e177",
   "metadata": {},
   "outputs": [
    {
     "name": "stdout",
     "output_type": "stream",
     "text": [
      "Best Parameters: {'max_depth': 20, 'min_samples_leaf': 1, 'min_samples_split': 2, 'n_estimators': 300}\n",
      "Accuracy: 0.9863636363636363\n",
      "              precision    recall  f1-score   support\n",
      "\n",
      "           1       0.96      0.98      0.97        50\n",
      "           2       1.00      0.98      0.99        57\n",
      "           3       1.00      0.99      0.99        69\n",
      "           4       0.98      1.00      0.99        44\n",
      "\n",
      "    accuracy                           0.99       220\n",
      "   macro avg       0.98      0.99      0.99       220\n",
      "weighted avg       0.99      0.99      0.99       220\n",
      "\n"
     ]
    }
   ],
   "source": [
    "#inspect betst parameters and performances\n",
    "best_params = grid_search.best_params_\n",
    "best_grid = grid_search.best_estimator_\n",
    "\n",
    "print(\"Best Parameters:\", best_params)\n",
    "\n",
    "predictions = best_grid.predict(X_test)\n",
    "print(\"Accuracy:\", accuracy_score(y_test, predictions))\n",
    "print(classification_report(y_test, predictions))"
   ]
  }
 ],
 "metadata": {
  "kernelspec": {
   "display_name": "Python 3 (ipykernel)",
   "language": "python",
   "name": "python3"
  },
  "language_info": {
   "codemirror_mode": {
    "name": "ipython",
    "version": 3
   },
   "file_extension": ".py",
   "mimetype": "text/x-python",
   "name": "python",
   "nbconvert_exporter": "python",
   "pygments_lexer": "ipython3",
   "version": "3.12.0"
  }
 },
 "nbformat": 4,
 "nbformat_minor": 5
}
